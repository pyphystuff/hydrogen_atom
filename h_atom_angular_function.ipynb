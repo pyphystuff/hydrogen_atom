{
 "cells": [
  {
   "cell_type": "code",
   "execution_count": 40,
   "id": "92ac2d48",
   "metadata": {},
   "outputs": [],
   "source": [
    "import matplotlib, matplotlib.pyplot as plt\n",
    "import scipy, scipy.special as sp\n",
    "import seaborn as sns\n",
    "import numpy as np\n",
    "# Load interactive widgets\n",
    "import ipywidgets as widgets\n",
    "import ipyvolume as ipv\n",
    "\n",
    "from matplotlib import cm, colors\n",
    "from mpl_toolkits.mplot3d import Axes3D"
   ]
  },
  {
   "cell_type": "code",
   "execution_count": 41,
   "id": "de4a12a8",
   "metadata": {},
   "outputs": [],
   "source": [
    "# Function to calculate the radial wave function (solving laguerre polynomial)\n",
    "def radial_function(n, l, r, a0):\n",
    "    laguerre = sp.genlaguerre(n - l - 1, 2 * l + 1)\n",
    "    p = 2 * r / (n * a0)\n",
    "\n",
    "    return np.sqrt(\n",
    "        ((2 / n * a0) ** 3 * (np.math.factorial(n - l - 1))) / (2 * n * (np.math.factorial(n + l)))\n",
    "    ) * np.exp(-p / 2) * (p ** l) * laguerre(p)"
   ]
  },
  {
   "cell_type": "code",
   "execution_count": 42,
   "id": "78609894",
   "metadata": {},
   "outputs": [],
   "source": [
    "def angular_function(m, l, theta, phi):\n",
    "    legendre = sp.lpmv(m, l, np.cos(theta))\n",
    "\n",
    "    return ((-1) ** m) * np.sqrt(\n",
    "        ((2 * l + 1) * np.math.factorial(l - np.abs(m)))\n",
    "        / (4 * np.pi * np.math.factorial(l + np.abs(m)))) * legendre * np.real(np.exp(1.j * m * phi))"
   ]
  },
  {
   "cell_type": "code",
   "execution_count": 43,
   "id": "1d2a4de0",
   "metadata": {},
   "outputs": [],
   "source": [
    "#Ylm = angular_function(0,0,theta,phi)\n",
    "#Ylm\n",
    "#%whos"
   ]
  },
  {
   "cell_type": "code",
   "execution_count": 44,
   "id": "7c49972a",
   "metadata": {},
   "outputs": [],
   "source": [
    "def normalized_wavefunction(n, l, m, a0):\n",
    "\n",
    "    # Bohr radius (a0) augmentation \n",
    "    a0 = 5.29e-11 * (1e+12 * a0)\n",
    "    \n",
    "    # Set coordinates grid to assign a certain probability to each point (x, y) in the plane\n",
    "    x = y = np.linspace(-480, 480, 680)\n",
    "    x, y = np.meshgrid(x, y)\n",
    "\n",
    "    # Ψnlm(r,θ,φ) = Rnl(r).Ylm(θ,φ)\n",
    "    psi = radial_function(n, l, np.sqrt((x ** 2 + y ** 2)), a0) * angular_function(m, l, np.arctan(x / (y + 1e-10)), 0)\n",
    "\n",
    "    return np.abs(psi) ** 2"
   ]
  },
  {
   "cell_type": "code",
   "execution_count": 45,
   "id": "4a8c4bf9",
   "metadata": {},
   "outputs": [
    {
     "data": {
      "image/png": "[encoded data removed]",
      "text/plain": [
       "<Figure size 640x480 with 1 Axes>"
      ]
     },
     "metadata": {},
     "output_type": "display_data"
    }
   ],
   "source": [
    "r = np.linspace(0,100,1000)\n",
    "\n",
    "R = radial_function(3,2,r,0.6)\n",
    "\n",
    "plt.plot(r, R**2, lw=3)\n",
    "\n",
    "plt.xlabel('$r [a_0]$',fontsize=20)\n",
    "\n",
    "plt.ylabel('$R_{nl}(r)$', fontsize=20)\n",
    "\n",
    "plt.grid('True')"
   ]
  },
  {
   "cell_type": "code",
   "execution_count": 46,
   "id": "a952821c",
   "metadata": {},
   "outputs": [],
   "source": [
    "#angular function limits\n",
    "\n",
    "phi, theta = np.linspace(0, np.pi, 100), np.linspace(0, 2*np.pi, 100)\n",
    "\n",
    "phi, theta = np.meshgrid(phi, theta)\n",
    "\n"
   ]
  },
  {
   "cell_type": "code",
   "execution_count": 48,
   "id": "5c1ead0b",
   "metadata": {
    "scrolled": false
   },
   "outputs": [
    {
     "data": {
      "application/vnd.jupyter.widget-view+json": {
       "model_id": "1246c74df119471199cf9062c1c0ceda",
       "version_major": 2,
       "version_minor": 0
      },
      "text/plain": [
       "interactive(children=(Dropdown(description='n', options=(1, 2, 3, 4, 5, 6, 7, 8, 9), value=1), Dropdown(descri…"
      ]
     },
     "metadata": {},
     "output_type": "display_data"
    }
   ],
   "source": [
    "nmax=10\n",
    "\n",
    "@widgets.interact(n = np.arange(1,nmax,1), l = np.arange(0,nmax-1,1))\n",
    "\n",
    "def plot_radial(n=1,l=0):\n",
    "    \n",
    "    r =    np.linspace(0,250,10000)\n",
    "    \n",
    "    psi2 = radial_function(n, l, r, 0.6)**2 * (r**2)\n",
    "    \n",
    "    plt.plot(r, psi2, lw=2, color='red')\n",
    "    \n",
    "\n",
    "    ''' Styling the plot'''\n",
    "    \n",
    "    plt.xlabel('$r [a_0]$')\n",
    "\n",
    "    plt.ylabel('$R_{nl}(r)$')\n",
    "    \n",
    "    rmax = n**2*(1+0.5*(1-l*(l+1)/n**2))\n",
    "    \n",
    "    plt.xlim([0, 2*rmax])"
   ]
  },
  {
   "cell_type": "code",
   "execution_count": 49,
   "id": "062a646b",
   "metadata": {},
   "outputs": [
    {
     "data": {
      "application/vnd.jupyter.widget-view+json": {
       "model_id": "351d64d8a44849499b17e4b6271d69fd",
       "version_major": 2,
       "version_minor": 0
      },
      "text/plain": [
       "interactive(children=(Dropdown(description='l', options=(0, 1, 2, 3, 4, 5, 6, 7, 8), value=0), Dropdown(descri…"
      ]
     },
     "metadata": {},
     "output_type": "display_data"
    }
   ],
   "source": [
    "\n",
    "\n",
    "\n",
    "def Ylm(l,m):\n",
    "    phi, theta = np.linspace(0, np.pi, 100), np.linspace(0, 2*np.pi, 100)\n",
    "    phi, theta = np.meshgrid(phi, theta)    \n",
    "    return angular_function(m, l, theta, phi) \n",
    "\n",
    "\n",
    "\n",
    "\n",
    "nmax=10\n",
    "\n",
    "@widgets.interact(m = np.arange(1,nmax,1), l = np.arange(0,nmax-1,1))\n",
    "\n",
    "#conversion de unidades\n",
    "def plot_3d(l,m):   \n",
    "    x = np.sin(phi) * np.cos(theta) * abs(Ylm(l,m))\n",
    "    y = np.sin(phi) * np.sin(theta) * abs(Ylm(l,m))\n",
    "    z = np.cos(phi) * abs(Ylm(l,m))\n",
    "\n",
    "    '''Set up the 3D Canvas'''\n",
    "    fig = plt.figure(figsize=(10,10))\n",
    "    ax = fig.add_subplot(111, projection='3d')\n",
    "\n",
    "\n",
    "    ''' Normalize color bar to [0,1] scale'''\n",
    "\n",
    "    fcolors = (Ylm(l,m) - Ylm(l,m).min())/(Ylm(l,m).max() - Ylm(l,m).min())\n",
    "\n",
    "\n",
    "    '''Make 3D plot of real part of spherical harmonic'''\n",
    "\n",
    "    ax.plot_surface(x, y, z, facecolors=cm.seismic(fcolors), alpha=0.3)\n",
    "\n",
    "\n",
    "\n",
    "    ''' Project 3D plot onto 2D planes'''\n",
    "\n",
    "    cset = ax.contour(x, y, z,20, zdir='z',offset = -1, cmap='summer')\n",
    "    cset = ax.contour(x, y, z,20, zdir='y',offset =  1, cmap='winter' )\n",
    "    cset = ax.contour(x, y, z,20, zdir='x',offset = -1, cmap='autumn')\n",
    "\n",
    "\n",
    "\n",
    "    ''' Set axes limit to keep aspect ratio 1:1:1 '''\n",
    "\n",
    "    ax.set_xlim(-1, 1)\n",
    "    ax.set_ylim(-1, 1)\n",
    "    ax.set_zlim(-1, 1)\n"
   ]
  },
  {
   "cell_type": "code",
   "execution_count": null,
   "id": "f8c55fed",
   "metadata": {},
   "outputs": [],
   "source": []
  },
  {
   "cell_type": "code",
   "execution_count": null,
   "id": "d9616acf",
   "metadata": {},
   "outputs": [],
   "source": []
  },
  {
   "cell_type": "code",
   "execution_count": null,
   "id": "d2b09604",
   "metadata": {},
   "outputs": [],
   "source": []
  },
  {
   "cell_type": "code",
   "execution_count": null,
   "id": "ce786b22",
   "metadata": {},
   "outputs": [],
   "source": []
  }
 ],
 "metadata": {
  "kernelspec": {
   "display_name": "Python 3 (ipykernel)",
   "language": "python",
   "name": "python3"
  },
  "language_info": {
   "codemirror_mode": {
    "name": "ipython",
    "version": 3
   },
   "file_extension": ".py",
   "mimetype": "text/x-python",
   "name": "python",
   "nbconvert_exporter": "python",
   "pygments_lexer": "ipython3",
   "version": "3.9.7"
  }
 },
 "nbformat": 4,
 "nbformat_minor": 5
}
